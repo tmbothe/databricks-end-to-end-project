{
 "cells": [
  {
   "cell_type": "markdown",
   "metadata": {
    "application/vnd.databricks.v1+cell": {
     "cellMetadata": {
      "byteLimit": 2048000,
      "rowLimit": 10000
     },
     "inputWidgets": {},
     "nuid": "819bbb87-4ddc-48eb-8fa6-b547c034f0de",
     "showTitle": false,
     "tableResultSettingsMap": {},
     "title": ""
    }
   },
   "source": [
    "### Initiate environment"
   ]
  },
  {
   "cell_type": "code",
   "execution_count": 0,
   "metadata": {
    "application/vnd.databricks.v1+cell": {
     "cellMetadata": {
      "byteLimit": 2048000,
      "rowLimit": 10000
     },
     "inputWidgets": {},
     "nuid": "f200627f-c649-43be-b818-8ab17d9b19dd",
     "showTitle": false,
     "tableResultSettingsMap": {},
     "title": ""
    }
   },
   "outputs": [],
   "source": [
    "%run /Workspace/Users/mbothe7@hotmail.com/databricks-end-to-end-project/01-initial-config"
   ]
  },
  {
   "cell_type": "code",
   "execution_count": 0,
   "metadata": {
    "application/vnd.databricks.v1+cell": {
     "cellMetadata": {
      "byteLimit": 2048000,
      "rowLimit": 10000
     },
     "inputWidgets": {},
     "nuid": "3808b1af-be5c-47f0-b6da-4f32aa939fce",
     "showTitle": false,
     "tableResultSettingsMap": {},
     "title": ""
    }
   },
   "outputs": [],
   "source": [
    "class DataProducer():\n",
    "    def __init__(self):\n",
    "        self.Conf = InitialConfig()\n",
    "        self.landing_zone = self.Conf.landing_path\n",
    "        self.landing_path=self.Conf.landing_path+\"/test_data\"\n",
    "        self.checkpoint_path= self.Conf.checkpoint_path+\"/test_data\"\n",
    "        self.bronze_path= self.Conf.bronze_path+\"/test_data\"\n",
    "        self.silver_path= self.Conf.silver_path+\"/test_data\"\n",
    "        self.gold_path= self.Conf.gold_path+\"/test_data\"\n",
    "\n",
    "\n",
    "    def traffic_data(self,num):\n",
    "        source = f\"{self.landing_zone}/raw_traffic/raw_traffic{num}.csv\"\n",
    "        target = f\"{self.landing_path}/raw_traffic/raw_traffic{num}.csv\"\n",
    "        print(f\"Copying traffic from  {source} to {target}\")\n",
    "        dbutils.fs.cp(source, target)\n",
    "        print(f\"Copied traffic from  {source} to {target}\")\n",
    "\n",
    "    def roads_data(self,num):\n",
    "        source = f\"{self.landing_zone}/raw_roads/raw_roads{num}.csv\"\n",
    "        target = f\"{self.landing_path}/raw_roads/raw_roads{num}.csv\"\n",
    "        print(f\"Copying traffic from  {source} to {target}\")\n",
    "        dbutils.fs.cp(source, target)\n",
    "        print(f\"Copied roads from  {source} to {target}\")\n",
    "\n",
    "    def run_data_producer(self,num):\n",
    "        print(\"Running Data Producer\")\n",
    "        self.traffic_data(num)\n",
    "        self.roads_data(num)\n",
    "        print(\"Data Producer Completed\")\n",
    "\n",
    "    def validate_count(self,location,expected_count):\n",
    "        print(f\"Validating count for {location}\")\n",
    "        target = f\"{self.landing_path}/{location}\"\n",
    "        actual_count = (\n",
    "               spark.read\n",
    "                    .format(\"csv\")\n",
    "                    .option('header','true')\n",
    "                    .load(target).count()\n",
    "        )\n",
    "        assert actual_count == expected_count, f\"Expected {expected_count} records in {location} but found {actual_count}\"\n",
    "        print(f\"Found {actual_count:,} / Expected {expected_count:,} records: Success\")\n",
    "\n",
    "    def validate_data(self):\n",
    "        import time\n",
    "        start=int(time.time())\n",
    "        print(f\"Validating data for raw traffic data \")\n",
    "        self.validate_count('raw_traffic/',expected_count=18546)\n",
    "        print(f\"Validating data for raw roads data \")\n",
    "        self.validate_count('raw_roads/',expected_count=76)\n",
    "\n",
    "\n",
    "\n",
    "\n",
    "\n"
   ]
  },
  {
   "cell_type": "code",
   "execution_count": 0,
   "metadata": {
    "application/vnd.databricks.v1+cell": {
     "cellMetadata": {
      "byteLimit": 2048000,
      "rowLimit": 10000
     },
     "inputWidgets": {},
     "nuid": "4d347e97-90a7-4139-bc4d-106dc0376902",
     "showTitle": false,
     "tableResultSettingsMap": {},
     "title": ""
    }
   },
   "outputs": [],
   "source": [
    "#p= DataProducer()\n",
    "#p.traffic_data(1)\n",
    "#p.roads_data(1)\n",
    "#p.validate_data()\n"
   ]
  },
  {
   "cell_type": "code",
   "execution_count": 0,
   "metadata": {
    "application/vnd.databricks.v1+cell": {
     "cellMetadata": {
      "byteLimit": 2048000,
      "rowLimit": 10000
     },
     "inputWidgets": {},
     "nuid": "dae10a12-21c9-42ae-adb7-8481a6741638",
     "showTitle": false,
     "tableResultSettingsMap": {},
     "title": ""
    }
   },
   "outputs": [],
   "source": []
  }
 ],
 "metadata": {
  "application/vnd.databricks.v1+notebook": {
   "computePreferences": null,
   "dashboards": [],
   "environmentMetadata": {
    "base_environment": "",
    "environment_version": "2"
   },
   "language": "python",
   "notebookMetadata": {
    "pythonIndentUnit": 4
   },
   "notebookName": "08-Data-producer",
   "widgets": {}
  },
  "language_info": {
   "name": "python"
  }
 },
 "nbformat": 4,
 "nbformat_minor": 0
}
