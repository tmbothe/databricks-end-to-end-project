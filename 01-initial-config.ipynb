{
 "cells": [
  {
   "cell_type": "code",
   "execution_count": 0,
   "metadata": {
    "application/vnd.databricks.v1+cell": {
     "cellMetadata": {
      "byteLimit": 2048000,
      "rowLimit": 10000
     },
     "inputWidgets": {},
     "nuid": "bdecbea9-c143-4d2b-b232-64be10715352",
     "showTitle": false,
     "tableResultSettingsMap": {},
     "title": ""
    }
   },
   "outputs": [],
   "source": [
    "class InitialConfig():\n",
    "    def __init__(self):\n",
    "        self.landing_path= spark.sql(\"DESCRIBE EXTERNAL LOCATION `landing`\").select(\"url\").collect()[0][0] \n",
    "        self.checkpoint_path= spark.sql(\"DESCRIBE EXTERNAL LOCATION `checkpoint`\").select(\"url\").collect()[0][0]\n",
    "        self.silver_path= spark.sql(\"DESCRIBE EXTERNAL LOCATION `silver`\").select(\"url\").collect()[0][0]\n",
    "        self.bronze_path= spark.sql(\"DESCRIBE EXTERNAL LOCATION `bronze`\").select(\"url\").collect()[0][0]\n",
    "        self.gold_path= spark.sql(\"DESCRIBE EXTERNAL LOCATION `gold`\").select(\"url\").collect()[0][0]\n",
    "        self.root_path = spark.sql(\"DESCRIBE EXTERNAL LOCATION `sbit-managed`\").select(\"url\").collect()[0][0]\n",
    "        #self.db_name=\"databricks_ete\"\n",
    "        self.maxFilePerBatch=10000"
   ]
  },
  {
   "cell_type": "code",
   "execution_count": 0,
   "metadata": {
    "application/vnd.databricks.v1+cell": {
     "cellMetadata": {
      "byteLimit": 2048000,
      "rowLimit": 10000
     },
     "inputWidgets": {},
     "nuid": "e0582378-f7f7-4b97-9ce6-452971f889b7",
     "showTitle": false,
     "tableResultSettingsMap": {},
     "title": ""
    }
   },
   "outputs": [],
   "source": [
    "m= InitialConfig()\n",
    "print(f\"landing_path: {m.landing_path}\")\n",
    "print(f\"checkpoint_path:{m.checkpoint_path}\")\n",
    "print(f\"silver_path: {m.silver_path}\")\n",
    "print(f\"bronze_path: {m.bronze_path}\")\n",
    "print(f\"gold_path: {m.gold_path}\")\n",
    "print(f\"root_path: {m.root_path}\")\n",
    "    "
   ]
  },
  {
   "cell_type": "code",
   "execution_count": 0,
   "metadata": {
    "application/vnd.databricks.v1+cell": {
     "cellMetadata": {},
     "inputWidgets": {},
     "nuid": "35849e30-63ad-40cd-a449-05758341fa62",
     "showTitle": false,
     "tableResultSettingsMap": {},
     "title": ""
    }
   },
   "outputs": [],
   "source": []
  }
 ],
 "metadata": {
  "application/vnd.databricks.v1+notebook": {
   "computePreferences": null,
   "dashboards": [],
   "environmentMetadata": {
    "base_environment": "",
    "environment_version": "2"
   },
   "language": "python",
   "notebookMetadata": {
    "pythonIndentUnit": 4
   },
   "notebookName": "01-initial-config",
   "widgets": {}
  },
  "language_info": {
   "name": "python"
  }
 },
 "nbformat": 4,
 "nbformat_minor": 0
}
