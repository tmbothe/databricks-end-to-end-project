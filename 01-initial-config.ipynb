{
 "cells": [
  {
   "cell_type": "code",
   "execution_count": 0,
   "metadata": {
    "application/vnd.databricks.v1+cell": {
     "cellMetadata": {
      "byteLimit": 2048000,
      "rowLimit": 10000
     },
     "inputWidgets": {},
     "nuid": "bdecbea9-c143-4d2b-b232-64be10715352",
     "showTitle": false,
     "tableResultSettingsMap": {},
     "title": ""
    }
   },
   "outputs": [],
   "source": [
    "class InitialConfig():\n",
    "    def __init__(self):\n",
    "        self.landing_zone= spark.sql(\"DESCRIBE EXTERNAL LOCATION `landing`\").select(\"url\").collect()[0][0] \n",
    "        self.checkpoint= spark.sql(\"DESCRIBE EXTERNAL LOCATION `checkpoint`\").select(\"url\").collect()[0][0]\n",
    "        self.db_name=\"databricks_ete\"\n",
    "        self.maxFilePerBatch=10000"
   ]
  },
  {
   "cell_type": "code",
   "execution_count": 0,
   "metadata": {
    "application/vnd.databricks.v1+cell": {
     "cellMetadata": {},
     "inputWidgets": {},
     "nuid": "9998de02-a1b4-4a31-a6a8-9abf736a80b4",
     "showTitle": false,
     "tableResultSettingsMap": {},
     "title": ""
    }
   },
   "outputs": [],
   "source": []
  }
 ],
 "metadata": {
  "application/vnd.databricks.v1+notebook": {
   "computePreferences": null,
   "dashboards": [],
   "environmentMetadata": {
    "base_environment": "",
    "environment_version": "2"
   },
   "language": "python",
   "notebookMetadata": {
    "pythonIndentUnit": 4
   },
   "notebookName": "01-initial-config",
   "widgets": {}
  },
  "language_info": {
   "name": "python"
  }
 },
 "nbformat": 4,
 "nbformat_minor": 0
}
