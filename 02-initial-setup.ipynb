{
 "cells": [
  {
   "cell_type": "code",
   "execution_count": 0,
   "metadata": {
    "application/vnd.databricks.v1+cell": {
     "cellMetadata": {
      "byteLimit": 2048000,
      "rowLimit": 10000
     },
     "inputWidgets": {},
     "nuid": "503a5dd2-7ff0-44f3-888a-66061124f21e",
     "showTitle": false,
     "tableResultSettingsMap": {},
     "title": ""
    }
   },
   "outputs": [],
   "source": [
    "%run /Workspace/Users/mbothe7@hotmail.com/databricks-end-to-end-project/01-initial-config"
   ]
  },
  {
   "cell_type": "code",
   "execution_count": 0,
   "metadata": {
    "application/vnd.databricks.v1+cell": {
     "cellMetadata": {
      "byteLimit": 2048000,
      "rowLimit": 10000
     },
     "inputWidgets": {},
     "nuid": "d2980e63-bea0-4d82-8aae-b03993a3f83e",
     "showTitle": false,
     "tableResultSettingsMap": {},
     "title": ""
    }
   },
   "outputs": [],
   "source": [
    "class InitialSetupHelper():\n",
    "    def __init__(self,env):\n",
    "        Conf = Config()\n",
    "        self.landing_zone = Conf.landing_zone+\"/raw\"\n",
    "        self.checkpoint = Conf.checkpoint+\"/checkpoints\"\n",
    "        self.catalog= env\n",
    "        self.db_name = Conf.db_name\n",
    "        self.initialized = False\n",
    "\n",
    "    def create_database(self):\n",
    "        spark.catalog.clearCache()\n",
    "        print(f\"Creating database {self.catalog}.{self.db_name} .....\")\n",
    "        spark.sql(f\"CREATE DATABASE IF NOT EXISTS {self.catalog}.{self.db_name}\")\n",
    "        spark.sql(f\"USE {self.catalog}.{self.db_name}\")\n",
    "        self.initialized = True\n",
    "        print(f\"Database {self.catalog}.{self.db_name} created.\")"
   ]
  },
  {
   "cell_type": "code",
   "execution_count": 0,
   "metadata": {
    "application/vnd.databricks.v1+cell": {
     "cellMetadata": {},
     "inputWidgets": {},
     "nuid": "7fb63e68-04b6-49f3-b4d3-32e5ce5e0d52",
     "showTitle": false,
     "tableResultSettingsMap": {},
     "title": ""
    }
   },
   "outputs": [],
   "source": []
  }
 ],
 "metadata": {
  "application/vnd.databricks.v1+notebook": {
   "computePreferences": null,
   "dashboards": [],
   "environmentMetadata": {
    "base_environment": "",
    "environment_version": "2"
   },
   "language": "python",
   "notebookMetadata": {
    "pythonIndentUnit": 4
   },
   "notebookName": "02-initial-setup",
   "widgets": {}
  },
  "language_info": {
   "name": "python"
  }
 },
 "nbformat": 4,
 "nbformat_minor": 0
}
