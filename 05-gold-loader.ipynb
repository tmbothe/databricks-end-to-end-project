{
 "cells": [
  {
   "cell_type": "markdown",
   "metadata": {
    "application/vnd.databricks.v1+cell": {
     "cellMetadata": {
      "byteLimit": 2048000,
      "rowLimit": 10000
     },
     "inputWidgets": {},
     "nuid": "b52bfbc8-1bd9-4cf7-b15a-24bb612961b1",
     "showTitle": false,
     "tableResultSettingsMap": {},
     "title": ""
    }
   },
   "source": [
    "### Start loading data into gold layer\n"
   ]
  },
  {
   "cell_type": "code",
   "execution_count": 0,
   "metadata": {
    "application/vnd.databricks.v1+cell": {
     "cellMetadata": {
      "byteLimit": 2048000,
      "rowLimit": 10000
     },
     "inputWidgets": {},
     "nuid": "abccfbcf-ebb2-4131-8ddd-b96ffb86fa79",
     "showTitle": false,
     "tableResultSettingsMap": {},
     "title": ""
    }
   },
   "outputs": [],
   "source": [
    "%run /Workspace/Users/mbothe7@hotmail.com/databricks-end-to-end-project/01-initial-config"
   ]
  },
  {
   "cell_type": "code",
   "execution_count": 0,
   "metadata": {
    "application/vnd.databricks.v1+cell": {
     "cellMetadata": {
      "byteLimit": 2048000,
      "rowLimit": 10000
     },
     "inputWidgets": {},
     "nuid": "ffb1de99-c83d-43a8-8270-6338cfcbcae0",
     "showTitle": false,
     "tableResultSettingsMap": {},
     "title": ""
    }
   },
   "outputs": [],
   "source": [
    "class goldLoader():\n",
    "    def __init__(self,env):\n",
    "      Conf = InitialConfig()\n",
    "      self.catalog = env\n",
    "      self.gold_path=Conf.gold_path\n",
    "\n",
    "    def read_silver_traffic(self):\n",
    "      print(\"Reading silver traffic\")\n",
    "      df = (spark.readStream\n",
    "            .table(self.catalog + \".silver.traffic_data\")\n",
    "          )\n",
    "      print(\"Silver traffic read complete\")\n",
    "      return df\n",
    "\n",
    "    def read_silver_roads(self):\n",
    "      print(\"Reading silver roads\")\n",
    "      df = (spark.readStream\n",
    "            .table(self.catalog + \".silver.roads_data\")\n",
    "          )\n",
    "      print(\"Silver roads read complete\")\n",
    "      return df\n",
    "\n",
    "    def create_vehicle_intensity(self,df):\n",
    "      from pyspark.sql.functions import col\n",
    "      print('Creating Vehicle Intensity column : ',end='')\n",
    "      df_in = df.withColumn('Vehicle_Intensity',col('motor_count_add') / col('Link_length_km') )\n",
    "\n",
    "      print(f\"added column to \",self.catalog + \".gold.vehicle_intensity\")\n",
    "      return df_in\n",
    "\n",
    "    def create_load_time(self,df):\n",
    "      from pyspark.sql.functions import current_timestamp\n",
    "      print('Creating Load Time column : ',end='')\n",
    "      df_timestamp = df.withColumn('Load_Time', current_timestamp() )\n",
    "      print(f\"adding load time column complete\")\n",
    "      return df_timestamp\n",
    "    \n",
    "    def write_gold_traffic(self,df):\n",
    "      print(\"Writing gold traffic\")\n",
    "      gold_traffic= (\n",
    "        df.writeStream\n",
    "          .format(\"delta\")\n",
    "          .option(\"checkpointLocation\", self.gold_path + \"/traffic_checkpoint/checkpt\")\n",
    "          .trigger(availableNow=True)\n",
    "          .outputMode(\"append\")\n",
    "          .queryName(self.catalog + \".gold.traffic_data\")\n",
    "          .toTable(self.catalog + \".gold.traffic_data\")\n",
    "        )\n",
    "      gold_traffic.awaitTermination()\n",
    "      print(\"Gold traffic write complete\")\n",
    "      \n",
    "  \n",
    "    def write_gold_roads(self,df):\n",
    "      print(\"Writing gold roads\")\n",
    "      gold_roads= (\n",
    "        df.writeStream\n",
    "          .format(\"delta\")\n",
    "          .option(\"checkpointLocation\", self.gold_path + \"/gold_checkpoint/checkpt\")\n",
    "          .trigger(availableNow=True)\n",
    "          .outputMode(\"append\")\n",
    "          .queryName(self.catalog + \".gold.roads_data\")\n",
    "          .toTable(self.catalog + \".gold.roads_data\")\n",
    "      )\n",
    "      gold_roads.awaitTermination()\n",
    "      print(\"Gold traffic write complete\")\n",
    "\n",
    "\n",
    "    def load_gold_traffic(self):\n",
    "      print(\"Loading gold traffic\")\n",
    "      df = self.read_silver_traffic()\n",
    "      df = self.create_vehicle_intensity(df)\n",
    "      df = self.create_load_time(df)\n",
    "      self.write_gold_traffic(df)\n",
    "      print(\"Gold traffic loaded\")\n",
    "\n",
    "\n",
    "    def load_gold_roads(self):\n",
    "      print(\"Loading gold roads\")\n",
    "      df = self.read_silver_roads()\n",
    "      df = self.create_load_time(df)\n",
    "      self.write_gold_roads(df)\n",
    "      print(\"Gold roads loaded\")\n"
   ]
  },
  {
   "cell_type": "code",
   "execution_count": 0,
   "metadata": {
    "application/vnd.databricks.v1+cell": {
     "cellMetadata": {
      "byteLimit": 2048000,
      "rowLimit": 10000
     },
     "inputWidgets": {},
     "nuid": "966a2ce2-735a-480e-a75f-e6b99ebe5785",
     "showTitle": false,
     "tableResultSettingsMap": {},
     "title": ""
    }
   },
   "outputs": [],
   "source": []
  }
 ],
 "metadata": {
  "application/vnd.databricks.v1+notebook": {
   "computePreferences": null,
   "dashboards": [],
   "environmentMetadata": {
    "base_environment": "",
    "environment_version": "2"
   },
   "language": "python",
   "notebookMetadata": {
    "pythonIndentUnit": 4
   },
   "notebookName": "05-gold-loader",
   "widgets": {}
  },
  "language_info": {
   "name": "python"
  }
 },
 "nbformat": 4,
 "nbformat_minor": 0
}
